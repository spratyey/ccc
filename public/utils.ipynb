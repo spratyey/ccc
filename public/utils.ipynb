{
 "cells": [
  {
   "cell_type": "code",
   "execution_count": 1,
   "metadata": {},
   "outputs": [],
   "source": [
    "import random\n",
    "\n",
    "\n",
    "def shuffle_lines(input_file, output_file):\n",
    "    with open(input_file, 'r') as f:\n",
    "        lines = f.readlines()\n",
    "\n",
    "    random.shuffle(lines)\n",
    "\n",
    "    with open(output_file, 'w') as f:\n",
    "        f.writelines(lines)\n",
    "\n",
    "\n",
    "# # Example usage\n",
    "# input_file = 'prescram.txt'\n",
    "# output_file = 'badcode.txt'\n",
    "# shuffle_lines(input_file, output_file)\n"
   ]
  },
  {
   "cell_type": "code",
   "execution_count": 2,
   "metadata": {},
   "outputs": [
    {
     "name": "stdout",
     "output_type": "stream",
     "text": [
      "GoodCode Charcount (nowhitespaces) 295\n",
      "BadCode Charcount (nowhitespaces) 302\n"
     ]
    }
   ],
   "source": [
    "def count_characters_without_whitespace(file_path):\n",
    "    with open(file_path, 'r') as f:\n",
    "        content = f.read()\n",
    "        characters_count = sum(1 for char in content if char.strip())\n",
    "    return characters_count\n",
    "\n",
    "\n",
    "# Example usage\n",
    "file_path = 'goodcode.txt'  # Replace with the path to your text file\n",
    "characters_count = count_characters_without_whitespace(file_path)\n",
    "print(\n",
    "    f'GoodCode Charcount (nowhitespaces) {characters_count}')\n",
    "\n",
    "file_path = 'badcode.txt'  # Replace with the path to your text file\n",
    "characters_count = count_characters_without_whitespace(file_path)\n",
    "print(\n",
    "    f'BadCode Charcount (nowhitespaces) {characters_count}')\n"
   ]
  }
 ],
 "metadata": {
  "kernelspec": {
   "display_name": "Python 3",
   "language": "python",
   "name": "python3"
  },
  "language_info": {
   "codemirror_mode": {
    "name": "ipython",
    "version": 3
   },
   "file_extension": ".py",
   "mimetype": "text/x-python",
   "name": "python",
   "nbconvert_exporter": "python",
   "pygments_lexer": "ipython3",
   "version": "3.10.4"
  },
  "orig_nbformat": 4
 },
 "nbformat": 4,
 "nbformat_minor": 2
}
